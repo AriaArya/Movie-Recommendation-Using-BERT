{
 "cells": [
  {
   "cell_type": "markdown",
   "id": "d908bcdc",
   "metadata": {},
   "source": [
    "## Group Name: Bill Greats \n",
    "\n",
    "### Team Members: Kumar Kishalaya, Sakshi Arya, Shiv Goel, Ruben Casas\n"
   ]
  },
  {
   "cell_type": "code",
   "execution_count": 17,
   "id": "81bdcbcf",
   "metadata": {},
   "outputs": [],
   "source": [
    "from tokenizers import Tokenizer, models, pre_tokenizers, trainers, normalizers, processors\n",
    "from tokenizers.processors import BertProcessing\n",
    "from tokenizers.pre_tokenizers import Whitespace\n",
    "from tokenizers.normalizers import Sequence, Lowercase, NFD, StripAccents\n",
    "from tokenizers.trainers import WordLevelTrainer\n",
    "from transformers import BertTokenizerFast\n"
   ]
  },
  {
   "cell_type": "code",
   "execution_count": null,
   "id": "d5cce4dd",
   "metadata": {},
   "outputs": [],
   "source": [
    "import pandas as pd\n",
    "\n",
    "df_final = pd.read_csv('df_final.csv')\n",
    "df_final.drop(columns='Unnamed: 0',inplace=True)"
   ]
  },
  {
   "cell_type": "code",
   "execution_count": 67,
   "id": "64b9628b",
   "metadata": {},
   "outputs": [
    {
     "data": {
      "text/html": [
       "<div>\n",
       "<style scoped>\n",
       "    .dataframe tbody tr th:only-of-type {\n",
       "        vertical-align: middle;\n",
       "    }\n",
       "\n",
       "    .dataframe tbody tr th {\n",
       "        vertical-align: top;\n",
       "    }\n",
       "\n",
       "    .dataframe thead th {\n",
       "        text-align: right;\n",
       "    }\n",
       "</style>\n",
       "<table border=\"1\" class=\"dataframe\">\n",
       "  <thead>\n",
       "    <tr style=\"text-align: right;\">\n",
       "      <th></th>\n",
       "      <th>user_id</th>\n",
       "      <th>movie_name</th>\n",
       "      <th>movie_id</th>\n",
       "    </tr>\n",
       "  </thead>\n",
       "  <tbody>\n",
       "    <tr>\n",
       "      <th>0</th>\n",
       "      <td>1</td>\n",
       "      <td>Fargo (1996) E.T. the Extra-Terrestrial (1982)...</td>\n",
       "      <td>3186 1836 3105 2355 531 1287 783 1907 1270 938...</td>\n",
       "    </tr>\n",
       "    <tr>\n",
       "      <th>1</th>\n",
       "      <td>2</td>\n",
       "      <td>Like Water for Chocolate (Como agua para choco...</td>\n",
       "      <td>368 163 1784 589 736 1537 3035 1610 380 1955 4...</td>\n",
       "    </tr>\n",
       "    <tr>\n",
       "      <th>2</th>\n",
       "      <td>3</td>\n",
       "      <td>Young Guns (1988) Indiana Jones and the Last C...</td>\n",
       "      <td>2470 480 1615 1259 3168 653 1291 1136 2355 130...</td>\n",
       "    </tr>\n",
       "    <tr>\n",
       "      <th>3</th>\n",
       "      <td>4</td>\n",
       "      <td>Raiders of the Lost Ark (1981) Good, The Bad a...</td>\n",
       "      <td>1214 480 1036 2951 1097 1240 1198 2028 2692 34...</td>\n",
       "    </tr>\n",
       "    <tr>\n",
       "      <th>4</th>\n",
       "      <td>5</td>\n",
       "      <td>Being John Malkovich (1999) Bob Roberts (1992)...</td>\n",
       "      <td>1046 1449 1175 2571 162 2987 2560 2395 3260 17...</td>\n",
       "    </tr>\n",
       "  </tbody>\n",
       "</table>\n",
       "</div>"
      ],
      "text/plain": [
       "   user_id                                         movie_name  \\\n",
       "0        1  Fargo (1996) E.T. the Extra-Terrestrial (1982)...   \n",
       "1        2  Like Water for Chocolate (Como agua para choco...   \n",
       "2        3  Young Guns (1988) Indiana Jones and the Last C...   \n",
       "3        4  Raiders of the Lost Ark (1981) Good, The Bad a...   \n",
       "4        5  Being John Malkovich (1999) Bob Roberts (1992)...   \n",
       "\n",
       "                                            movie_id  \n",
       "0  3186 1836 3105 2355 531 1287 783 1907 1270 938...  \n",
       "1  368 163 1784 589 736 1537 3035 1610 380 1955 4...  \n",
       "2  2470 480 1615 1259 3168 653 1291 1136 2355 130...  \n",
       "3  1214 480 1036 2951 1097 1240 1198 2028 2692 34...  \n",
       "4  1046 1449 1175 2571 162 2987 2560 2395 3260 17...  "
      ]
     },
     "execution_count": 67,
     "metadata": {},
     "output_type": "execute_result"
    }
   ],
   "source": [
    "import numpy as np\n",
    "\n",
    "# Function to shuffle and join a list of strings\n",
    "def shuffle_and_join(x):\n",
    "    x = list(x)\n",
    "    np.random.shuffle(x)\n",
    "    return ' '.join(x)\n",
    "\n",
    "# Apply the function to movie_name and movie_id columns\n",
    "df = df_final.groupby('user_id').agg({\n",
    "    'movie_name': lambda x: shuffle_and_join(x),\n",
    "    'movie_id': lambda x: shuffle_and_join(map(str, x))\n",
    "}).reset_index()\n",
    "df.head()"
   ]
  },
  {
   "cell_type": "code",
   "execution_count": 68,
   "id": "84b9edff",
   "metadata": {},
   "outputs": [],
   "source": [
    "movie_id_list = df['movie_id'].tolist()"
   ]
  },
  {
   "cell_type": "code",
   "execution_count": 69,
   "id": "b16a9652",
   "metadata": {
    "scrolled": false
   },
   "outputs": [
    {
     "data": {
      "text/plain": [
       "'3186 1836 3105 2355 531 1287 783 1907 1270 938 2797 608 3114 527 2018 1035 260 1246 1962 2918 919 1545 2398 1097 1721 2762 588 1566 2028 2804 2692 150 2294 1029 1207 594 48 2791 1 1961 1022 3408 1028 1193 595'"
      ]
     },
     "execution_count": 69,
     "metadata": {},
     "output_type": "execute_result"
    }
   ],
   "source": [
    "movie_id_list[0]"
   ]
  },
  {
   "cell_type": "code",
   "execution_count": 70,
   "id": "9e62f476",
   "metadata": {},
   "outputs": [],
   "source": [
    "# Create a custom vocabulary from your dataset\n",
    "unique_tokens = set()\n",
    "for seq in movie_id_list:\n",
    "    unique_tokens.update(seq.split())\n"
   ]
  },
  {
   "cell_type": "code",
   "execution_count": 71,
   "id": "477239e0",
   "metadata": {},
   "outputs": [],
   "source": [
    "# Initialize the tokenizer with the WordLevel model\n",
    "tokenizer = Tokenizer(models.WordLevel(unk_token=\"[UNK]\"))\n",
    "tokenizer.normalizer = Sequence([NFD(), Lowercase(), StripAccents()])\n",
    "tokenizer.pre_tokenizer = Whitespace()"
   ]
  },
  {
   "cell_type": "code",
   "execution_count": 72,
   "id": "8ae824e9",
   "metadata": {},
   "outputs": [
    {
     "name": "stdout",
     "output_type": "stream",
     "text": [
      "Ignored unknown kwargs option vocab\n"
     ]
    }
   ],
   "source": [
    "# Add special tokens\n",
    "special_tokens = [\"[UNK]\", \"[CLS]\", \"[SEP]\", \"[PAD]\", \"[MASK]\"]\n",
    "trainer = WordLevelTrainer(vocab=list(unique_tokens), special_tokens=special_tokens)\n",
    "\n",
    "tokenizer.train_from_iterator([unique_tokens], trainer=trainer)"
   ]
  },
  {
   "cell_type": "code",
   "execution_count": 73,
   "id": "c64b9f45",
   "metadata": {},
   "outputs": [],
   "source": [
    "# Post-process with BERT-specific processing\n",
    "tokenizer.post_processor = BertProcessing(\n",
    "    (\"[SEP]\", tokenizer.token_to_id(\"[SEP]\")),\n",
    "    (\"[CLS]\", tokenizer.token_to_id(\"[CLS]\"))\n",
    ")\n",
    "\n",
    "# Save the tokenizer\n",
    "tokenizer.save(\"custom_tokenizer.json\")"
   ]
  },
  {
   "cell_type": "code",
   "execution_count": 74,
   "id": "c316231e",
   "metadata": {},
   "outputs": [
    {
     "name": "stdout",
     "output_type": "stream",
     "text": [
      "Size of the tokenizer: 3538\n"
     ]
    }
   ],
   "source": [
    "# Load the tokenizer with BertTokenizerFast\n",
    "tokenizer = BertTokenizerFast(tokenizer_file=\"custom_tokenizer.json\")\n",
    "\n",
    "# Print the size of the tokenizer to verify\n",
    "print(f\"Size of the tokenizer: {len(tokenizer)}\")"
   ]
  },
  {
   "cell_type": "code",
   "execution_count": 75,
   "id": "ff75c692",
   "metadata": {},
   "outputs": [],
   "source": [
    "from transformers import BertConfig, BertForMaskedLM, AdamW\n",
    "import torch\n",
    "from tqdm import tqdm\n"
   ]
  },
  {
   "cell_type": "code",
   "execution_count": 181,
   "id": "c7eb8d2c",
   "metadata": {},
   "outputs": [],
   "source": [
    "# Create a custom configuration with vocab size equal to the size of your custom tokenizer\n",
    "config = BertConfig(\n",
    "    vocab_size=len(tokenizer),\n",
    "    hidden_size=512,\n",
    "    num_hidden_layers=4,\n",
    "    num_attention_heads=2,\n",
    "    intermediate_size=1024,\n",
    ")\n",
    "\n",
    "# Initialize the model with the custom configuration\n",
    "model = BertForMaskedLM(config)"
   ]
  },
  {
   "cell_type": "code",
   "execution_count": 182,
   "id": "cf3dd0e3",
   "metadata": {
    "scrolled": true
   },
   "outputs": [
    {
     "data": {
      "text/plain": [
       "['3186 1836 3105 2355 531 1287 783 1907 1270 938 2797 608 3114 527 2018 1035 260 1246 1962 2918 919 1545 2398 1097 1721 2762 588 1566 2028 2804 2692 150 2294 1029 1207 594 48 2791 1 1961 1022 3408 1028 1193 595',\n",
       " '368 163 1784 589 736 1537 3035 1610 380 1955 480 590 1962 2002 2571 3095 1124 1834 1293 982 3471 457 1225 3071 1193 3255 1953 1873 2353 3030 356 1096 2501 2943 1188 2268 1957 265 3468 1954 110 318 2396 3451 1370 1210 593 349 1246 3068 1259 2067 3334 2028 1207 920 648 1198 3147 1357 3105 1945 515 3578 1544 1442 1247 2858 1196 2194 2236 3418 1527',\n",
       " '2470 480 1615 1259 3168 653 1291 1136 2355 1304 2871 2735 1394 2167 3421 1379 3552 2115 1198 2858 1378 1210 1197 2006 590 104 1196 3671 2081 1049 552 260 1266 1968 1079 1961 733']"
      ]
     },
     "execution_count": 182,
     "metadata": {},
     "output_type": "execute_result"
    }
   ],
   "source": [
    "movie_id_list[:3]"
   ]
  },
  {
   "cell_type": "code",
   "execution_count": 183,
   "id": "64479a75",
   "metadata": {},
   "outputs": [],
   "source": [
    "inputs = tokenizer(movie_id_list, return_tensors='pt', max_length=20, truncation=True, padding='max_length')\n",
    "inputs['labels'] = inputs.input_ids.detach().clone()"
   ]
  },
  {
   "cell_type": "code",
   "execution_count": 184,
   "id": "b8e1a41a",
   "metadata": {},
   "outputs": [
    {
     "data": {
      "text/plain": [
       "tensor([[   1, 2188,  779,  ..., 1573,  237,    2],\n",
       "        [   1, 2680,  602,  ...,  125,  777,    2],\n",
       "        [   1, 1444, 3057,  ..., 2553, 1080,    2],\n",
       "        ...,\n",
       "        [   1,  171,  136,  ...,    3,    3,    3],\n",
       "        [   1,  408,  193,  ...,  126, 2085,    2],\n",
       "        [   1,  606, 2111,  ..., 1350,  277,    2]])"
      ]
     },
     "execution_count": 184,
     "metadata": {},
     "output_type": "execute_result"
    }
   ],
   "source": [
    "inputs['input_ids']"
   ]
  },
  {
   "cell_type": "code",
   "execution_count": 185,
   "id": "76cfd0e4",
   "metadata": {},
   "outputs": [
    {
     "data": {
      "text/plain": [
       "dict_keys(['input_ids', 'token_type_ids', 'attention_mask', 'labels'])"
      ]
     },
     "execution_count": 185,
     "metadata": {},
     "output_type": "execute_result"
    }
   ],
   "source": [
    "inputs.keys()"
   ]
  },
  {
   "cell_type": "code",
   "execution_count": 186,
   "id": "62462bcb",
   "metadata": {},
   "outputs": [],
   "source": [
    "# create random array of floats with equal dimensions to input_ids tensor\n",
    "rand = torch.rand(inputs.input_ids.shape)\n",
    "# create mask array\n",
    "mask_arr = (rand < 0.15) * (inputs.input_ids != 1) * \\\n",
    "           (inputs.input_ids != 2) * (inputs.input_ids != 3)"
   ]
  },
  {
   "cell_type": "code",
   "execution_count": 187,
   "id": "14d3a9ea",
   "metadata": {},
   "outputs": [],
   "source": [
    "selection = []\n",
    "\n",
    "for i in range(inputs.input_ids.shape[0]):\n",
    "    selection.append(\n",
    "        torch.flatten(mask_arr[i].nonzero()).tolist()\n",
    "    )"
   ]
  },
  {
   "cell_type": "code",
   "execution_count": 188,
   "id": "9398859f",
   "metadata": {},
   "outputs": [
    {
     "data": {
      "text/plain": [
       "[[2, 9, 10, 14, 15], [16, 17, 18], [7, 8, 17]]"
      ]
     },
     "execution_count": 188,
     "metadata": {},
     "output_type": "execute_result"
    }
   ],
   "source": [
    "selection[:3]"
   ]
  },
  {
   "cell_type": "code",
   "execution_count": 189,
   "id": "c420ad5a",
   "metadata": {},
   "outputs": [],
   "source": [
    "for i in range(inputs.input_ids.shape[0]):\n",
    "    inputs.input_ids[i, selection[i]] = 4"
   ]
  },
  {
   "cell_type": "code",
   "execution_count": 190,
   "id": "3a3b89fc",
   "metadata": {
    "scrolled": true
   },
   "outputs": [
    {
     "data": {
      "text/plain": [
       "tensor([[   1, 2188,    4,  ..., 1573,  237,    2],\n",
       "        [   1, 2680,  602,  ...,    4,    4,    2],\n",
       "        [   1, 1444, 3057,  ...,    4, 1080,    2],\n",
       "        ...,\n",
       "        [   1,    4,  136,  ...,    3,    3,    3],\n",
       "        [   1,  408,  193,  ...,    4, 2085,    2],\n",
       "        [   1,  606, 2111,  ..., 1350,  277,    2]])"
      ]
     },
     "execution_count": 190,
     "metadata": {},
     "output_type": "execute_result"
    }
   ],
   "source": [
    "inputs.input_ids"
   ]
  },
  {
   "cell_type": "code",
   "execution_count": 191,
   "id": "dd2cd4fd",
   "metadata": {},
   "outputs": [],
   "source": [
    "class MoviesDataset(torch.utils.data.Dataset):\n",
    "    def __init__(self, encodings):\n",
    "        self.encodings = encodings\n",
    "    def __getitem__(self, idx):\n",
    "        return {key: torch.tensor(val[idx]) for key, val in self.encodings.items()}\n",
    "    def __len__(self):\n",
    "        return len(self.encodings.input_ids)"
   ]
  },
  {
   "cell_type": "code",
   "execution_count": 192,
   "id": "7d180372",
   "metadata": {},
   "outputs": [],
   "source": [
    "dataset = MoviesDataset(inputs)"
   ]
  },
  {
   "cell_type": "code",
   "execution_count": 193,
   "id": "f1db38a7",
   "metadata": {},
   "outputs": [],
   "source": [
    "loader = torch.utils.data.DataLoader(dataset, batch_size=4, shuffle=True)"
   ]
  },
  {
   "cell_type": "code",
   "execution_count": 194,
   "id": "5c2437d6",
   "metadata": {
    "scrolled": true
   },
   "outputs": [
    {
     "data": {
      "text/plain": [
       "BertForMaskedLM(\n",
       "  (bert): BertModel(\n",
       "    (embeddings): BertEmbeddings(\n",
       "      (word_embeddings): Embedding(3538, 512, padding_idx=0)\n",
       "      (position_embeddings): Embedding(512, 512)\n",
       "      (token_type_embeddings): Embedding(2, 512)\n",
       "      (LayerNorm): LayerNorm((512,), eps=1e-12, elementwise_affine=True)\n",
       "      (dropout): Dropout(p=0.1, inplace=False)\n",
       "    )\n",
       "    (encoder): BertEncoder(\n",
       "      (layer): ModuleList(\n",
       "        (0-3): 4 x BertLayer(\n",
       "          (attention): BertAttention(\n",
       "            (self): BertSelfAttention(\n",
       "              (query): Linear(in_features=512, out_features=512, bias=True)\n",
       "              (key): Linear(in_features=512, out_features=512, bias=True)\n",
       "              (value): Linear(in_features=512, out_features=512, bias=True)\n",
       "              (dropout): Dropout(p=0.1, inplace=False)\n",
       "            )\n",
       "            (output): BertSelfOutput(\n",
       "              (dense): Linear(in_features=512, out_features=512, bias=True)\n",
       "              (LayerNorm): LayerNorm((512,), eps=1e-12, elementwise_affine=True)\n",
       "              (dropout): Dropout(p=0.1, inplace=False)\n",
       "            )\n",
       "          )\n",
       "          (intermediate): BertIntermediate(\n",
       "            (dense): Linear(in_features=512, out_features=1024, bias=True)\n",
       "            (intermediate_act_fn): GELUActivation()\n",
       "          )\n",
       "          (output): BertOutput(\n",
       "            (dense): Linear(in_features=1024, out_features=512, bias=True)\n",
       "            (LayerNorm): LayerNorm((512,), eps=1e-12, elementwise_affine=True)\n",
       "            (dropout): Dropout(p=0.1, inplace=False)\n",
       "          )\n",
       "        )\n",
       "      )\n",
       "    )\n",
       "  )\n",
       "  (cls): BertOnlyMLMHead(\n",
       "    (predictions): BertLMPredictionHead(\n",
       "      (transform): BertPredictionHeadTransform(\n",
       "        (dense): Linear(in_features=512, out_features=512, bias=True)\n",
       "        (transform_act_fn): GELUActivation()\n",
       "        (LayerNorm): LayerNorm((512,), eps=1e-12, elementwise_affine=True)\n",
       "      )\n",
       "      (decoder): Linear(in_features=512, out_features=3538, bias=True)\n",
       "    )\n",
       "  )\n",
       ")"
      ]
     },
     "execution_count": 194,
     "metadata": {},
     "output_type": "execute_result"
    }
   ],
   "source": [
    "device = torch.device('cuda') if torch.cuda.is_available() else torch.device('cpu')\n",
    "# and move our model over to the selected device\n",
    "model.to(device)"
   ]
  },
  {
   "cell_type": "code",
   "execution_count": 195,
   "id": "b4e1ea2a",
   "metadata": {},
   "outputs": [
    {
     "name": "stderr",
     "output_type": "stream",
     "text": [
      "/Users/kumarkishalaya/anaconda3/lib/python3.11/site-packages/transformers/optimization.py:457: FutureWarning: This implementation of AdamW is deprecated and will be removed in a future version. Use the PyTorch implementation torch.optim.AdamW instead, or set `no_deprecation_warning=True` to disable this warning\n",
      "  warnings.warn(\n"
     ]
    }
   ],
   "source": [
    "from transformers import AdamW\n",
    "\n",
    "# activate training mode\n",
    "model.train()\n",
    "# initialize optimizer\n",
    "optim = AdamW(model.parameters(), lr=5e-5)"
   ]
  },
  {
   "cell_type": "code",
   "execution_count": 196,
   "id": "de0f3cd3",
   "metadata": {},
   "outputs": [
    {
     "name": "stderr",
     "output_type": "stream",
     "text": [
      "  0%|                                                  | 0/1510 [00:00<?, ?it/s]/var/folders/ly/npw69p7x4lg1l7s7mm3y7twm0000gn/T/ipykernel_59420/3232924672.py:5: UserWarning: To copy construct from a tensor, it is recommended to use sourceTensor.clone().detach() or sourceTensor.clone().detach().requires_grad_(True), rather than torch.tensor(sourceTensor).\n",
      "  return {key: torch.tensor(val[idx]) for key, val in self.encodings.items()}\n",
      "Epoch 0: 100%|██████████████████| 1510/1510 [00:48<00:00, 31.17it/s, loss=0.917]\n",
      "Epoch 1: 100%|██████████████████| 1510/1510 [00:44<00:00, 33.75it/s, loss=0.915]\n",
      "Epoch 2: 100%|██████████████████| 1510/1510 [00:49<00:00, 30.49it/s, loss=0.861]\n"
     ]
    }
   ],
   "source": [
    "from tqdm import tqdm  # for our progress bar\n",
    "\n",
    "epochs = 3\n",
    "loss_values = []\n",
    "\n",
    "for epoch in range(epochs):\n",
    "    # setup loop with TQDM and dataloader\n",
    "    loop = tqdm(loader, leave=True)\n",
    "    for batch in loop:\n",
    "        # initialize calculated gradients (from prev step)\n",
    "        optim.zero_grad()\n",
    "        # pull all tensor batches required for training\n",
    "        input_ids = batch['input_ids'].to(device)\n",
    "        attention_mask = batch['attention_mask'].to(device)\n",
    "        labels = batch['labels'].to(device)\n",
    "        # process\n",
    "        outputs = model(input_ids, attention_mask=attention_mask,\n",
    "                        labels=labels)\n",
    "        # extract loss\n",
    "        loss = outputs.loss\n",
    "        # calculate loss for every parameter that needs grad update\n",
    "        loss.backward()\n",
    "        # update parameters\n",
    "        optim.step()\n",
    "        loss_values.append(loss.item())\n",
    "        # print relevant info to progress bar\n",
    "        loop.set_description(f'Epoch {epoch}')\n",
    "        loop.set_postfix(loss=loss.item())"
   ]
  },
  {
   "cell_type": "code",
   "execution_count": 197,
   "id": "d0b5dd2e",
   "metadata": {
    "scrolled": false
   },
   "outputs": [
    {
     "data": {
      "image/png": "[encoded data removed]",
      "text/plain": [
       "<Figure size 600x400 with 1 Axes>"
      ]
     },
     "metadata": {},
     "output_type": "display_data"
    }
   ],
   "source": [
    "import matplotlib.pyplot as plt\n",
    "#Plot the loss values\n",
    "plt.figure(figsize=(6, 4))\n",
    "plt.plot(loss_values, label='Training Loss')\n",
    "plt.xlabel('epoch')\n",
    "plt.ylabel('Loss')\n",
    "plt.title('Training Loss Over Epoch')\n",
    "plt.legend()\n",
    "plt.show()"
   ]
  },
  {
   "cell_type": "code",
   "execution_count": 198,
   "id": "8bba9af0",
   "metadata": {},
   "outputs": [
    {
     "data": {
      "text/plain": [
       "('trained_bert_tokenizer/tokenizer_config.json',\n",
       " 'trained_bert_tokenizer/special_tokens_map.json',\n",
       " 'trained_bert_tokenizer/vocab.json',\n",
       " 'trained_bert_tokenizer/added_tokens.json',\n",
       " 'trained_bert_tokenizer/tokenizer.json')"
      ]
     },
     "execution_count": 198,
     "metadata": {},
     "output_type": "execute_result"
    }
   ],
   "source": [
    "# Save the model and tokenizer\n",
    "model.save_pretrained(\"trained_bert_model\")\n",
    "tokenizer.save_pretrained(\"trained_bert_tokenizer\")"
   ]
  },
  {
   "cell_type": "code",
   "execution_count": null,
   "id": "2c5a39f8",
   "metadata": {},
   "outputs": [],
   "source": []
  },
  {
   "cell_type": "code",
   "execution_count": 199,
   "id": "ea7813dd",
   "metadata": {},
   "outputs": [],
   "source": [
    "def compute_top_k_precision(model, tokenizer, val_loader, k=10):\n",
    "    model.eval()  # Set model to evaluation mode\n",
    "    correct_predictions = 0\n",
    "    total_predictions = 0\n",
    "\n",
    "    with torch.no_grad():\n",
    "        for batch in tqdm(val_loader, desc=\"Validation\"):\n",
    "            input_ids = batch['input_ids'].to(device)\n",
    "            attention_mask = batch['attention_mask'].to(device)\n",
    "            labels = batch['labels'].to(device)\n",
    "\n",
    "            outputs = model(input_ids=input_ids, attention_mask=attention_mask)\n",
    "            logits = outputs.logits\n",
    "\n",
    "            for i in range(len(input_ids)):\n",
    "                mask_token_indices = torch.where(input_ids[i] == tokenizer.mask_token_id)[0]\n",
    "                for mask_token_index in mask_token_indices:\n",
    "                    mask_token_logits = logits[i, mask_token_index, :]\n",
    "                    top_k_indices = torch.topk(mask_token_logits, k).indices.tolist()\n",
    "\n",
    "                    if labels[i, mask_token_index].item() in top_k_indices:\n",
    "                        correct_predictions += 1\n",
    "                    total_predictions += 1\n",
    "\n",
    "    top_k_precision = correct_predictions / total_predictions if total_predictions > 0 else 0\n",
    "    return top_k_precision\n"
   ]
  },
  {
   "cell_type": "code",
   "execution_count": 200,
   "id": "3d01689b",
   "metadata": {
    "scrolled": true
   },
   "outputs": [
    {
     "name": "stderr",
     "output_type": "stream",
     "text": [
      "Validation:   0%|                                      | 0/1510 [00:00<?, ?it/s]/var/folders/ly/npw69p7x4lg1l7s7mm3y7twm0000gn/T/ipykernel_59420/3232924672.py:5: UserWarning: To copy construct from a tensor, it is recommended to use sourceTensor.clone().detach() or sourceTensor.clone().detach().requires_grad_(True), rather than torch.tensor(sourceTensor).\n",
      "  return {key: torch.tensor(val[idx]) for key, val in self.encodings.items()}\n",
      "Validation: 100%|██████████████████████████| 1510/1510 [00:10<00:00, 148.08it/s]"
     ]
    },
    {
     "name": "stdout",
     "output_type": "stream",
     "text": [
      "Epoch 2 - Top-5 Precision: 0.0443\n"
     ]
    },
    {
     "name": "stderr",
     "output_type": "stream",
     "text": [
      "\n"
     ]
    }
   ],
   "source": [
    "# Validation phase\n",
    "top_5_precision = compute_top_k_precision(model, tokenizer, loader, k=5)\n",
    "print(f\"Epoch {epoch} - Top-5 Precision: {top_5_precision:.4f}\")"
   ]
  },
  {
   "cell_type": "markdown",
   "id": "141c8c27",
   "metadata": {},
   "source": [
    "def get_top_k_predictions_for_token(model, tokenizer, input_ids_str, movie_name_to_id, id_to_movie_name, id_to_genre, top_k=10):\n",
    "    model.eval()  # Set model to evaluation mode\n",
    "    with torch.no_grad():\n",
    "        # Convert input string of movie IDs to a list of integers\n",
    "        input_ids = [int(movie_id) for movie_id in input_ids_str.split(\", \")]\n",
    "        \n",
    "        # Add the [MASK] token at the end\n",
    "        input_ids.append(tokenizer.mask_token_id)\n",
    "        \n",
    "        # Convert to tensor and add batch dimension\n",
    "        input_ids = torch.tensor([input_ids])\n",
    "        attention_mask = torch.ones(input_ids.shape)\n",
    "        \n",
    "        # Get predictions\n",
    "        outputs = model(input_ids=input_ids, attention_mask=attention_mask)\n",
    "        logits = outputs.logits\n",
    "        \n",
    "        # Get the position of the [MASK] token\n",
    "        mask_token_index = torch.where(input_ids == tokenizer.mask_token_id)[1]\n",
    "        \n",
    "        # Get the logits corresponding to the [MASK] token and apply softmax\n",
    "        mask_token_logits = logits[0, mask_token_index, :]\n",
    "        softmax = torch.nn.Softmax(dim=-1)\n",
    "        probs = softmax(mask_token_logits)\n",
    "        \n",
    "        # Get the top k predictions\n",
    "        top_k_probs, top_k_indices = torch.topk(probs, top_k, dim=-1)\n",
    "        \n",
    "        # Map the predictions to movie names and genres\n",
    "        predictions = []\n",
    "        for idx in top_k_indices[0]:\n",
    "            token_id = idx.item()\n",
    "            if token_id in id_to_movie_name:\n",
    "                movie_name = id_to_movie_name[token_id]\n",
    "                genre = id_to_genre.get(token_id, \"Unknown Genre\")\n",
    "                predictions.append({\"Movie\": movie_name, \"Genre\": genre})\n",
    "            else:\n",
    "                predictions.append({\"Movie\": f\"Unknown ID: {token_id}\", \"Genre\": \"Unknown Genre\"})\n",
    "        \n",
    "        # Convert predictions to DataFrame\n",
    "        df_predictions = pd.DataFrame(predictions)\n",
    "        \n",
    "        return df_predictions"
   ]
  },
  {
   "cell_type": "code",
   "execution_count": 168,
   "id": "fd543254",
   "metadata": {},
   "outputs": [],
   "source": [
    "movie_name_to_id = df_final.set_index('movie_name')['movie_id'].to_dict()\n",
    "id_to_movie_name = df_final.set_index('movie_id')['movie_name'].to_dict()\n",
    "id_to_genre = df_final.set_index('movie_id')['genre'].to_dict()"
   ]
  },
  {
   "cell_type": "markdown",
   "id": "775ac0d7",
   "metadata": {},
   "source": [
    "input_ids_str = '1193'\n",
    "df_predictions = get_top_k_predictions_for_token(model, tokenizer, input_ids_str, movie_name_to_id, id_to_movie_name, id_to_genre)\n",
    "print(\"Top 3 predictions for the movie token:\")\n",
    "pd.DataFrame(df_predictions, columns=['movie_name','genre'])\n"
   ]
  },
  {
   "cell_type": "code",
   "execution_count": 201,
   "id": "1b5c4568",
   "metadata": {},
   "outputs": [],
   "source": [
    "# Function to load the model and tokenizer\n",
    "def load_model_and_tokenizer(model_path, tokenizer_path):\n",
    "    model = BertForMaskedLM.from_pretrained(model_path)\n",
    "    tokenizer = BertTokenizer.from_pretrained(tokenizer_path)\n",
    "    return model, tokenizer\n",
    "\n",
    "import torch\n",
    "from transformers import BertTokenizer, BertForMaskedLM\n",
    "\n",
    "def get_top_k_predictions(model, tokenizer, input_ids_str, id_to_movie_name, id_to_genre, top_k=10):\n",
    "    model.eval()  # Set model to evaluation mode\n",
    "    with torch.no_grad():\n",
    "        # Convert input string of movie IDs to a list of integers\n",
    "        input_ids = [int(movie_id) for movie_id in input_ids_str.split(\", \")]\n",
    "        \n",
    "        # Add the [MASK] token at the end\n",
    "        input_ids.append(tokenizer.mask_token_id)\n",
    "        \n",
    "        # Convert to tensor and add batch dimension\n",
    "        input_ids = torch.tensor([input_ids])\n",
    "        attention_mask = torch.ones(input_ids.shape)\n",
    "        \n",
    "        # Get predictions\n",
    "        outputs = model(input_ids=input_ids, attention_mask=attention_mask)\n",
    "        logits = outputs.logits\n",
    "        \n",
    "        # Get the position of the [MASK] token\n",
    "        mask_token_index = torch.where(input_ids == tokenizer.mask_token_id)[1]\n",
    "        \n",
    "        # Get the logits corresponding to the [MASK] token and apply softmax\n",
    "        mask_token_logits = logits[0, mask_token_index, :]\n",
    "        softmax = torch.nn.Softmax(dim=-1)\n",
    "        probs = softmax(mask_token_logits)\n",
    "        \n",
    "        # Get the top k predictions\n",
    "        top_k_probs, top_k_indices = torch.topk(probs, top_k, dim=-1)\n",
    "        \n",
    "        # Map the predictions to movie names and genres\n",
    "        predictions = []\n",
    "        for idx in top_k_indices[0]:\n",
    "            token_id = idx.item()\n",
    "            if token_id in id_to_movie_name:\n",
    "                movie_name = id_to_movie_name[token_id]\n",
    "                genre = id_to_genre.get(token_id, \"Unknown Genre\")\n",
    "                predictions.append((movie_name, genre))\n",
    "            else:\n",
    "                predictions.append((f\"Unknown ID: {token_id}\", \"Unknown Genre\"))\n",
    "        \n",
    "        return predictions\n"
   ]
  },
  {
   "cell_type": "code",
   "execution_count": 210,
   "id": "21bb28ed",
   "metadata": {},
   "outputs": [
    {
     "data": {
      "text/html": [
       "<div>\n",
       "<style scoped>\n",
       "    .dataframe tbody tr th:only-of-type {\n",
       "        vertical-align: middle;\n",
       "    }\n",
       "\n",
       "    .dataframe tbody tr th {\n",
       "        vertical-align: top;\n",
       "    }\n",
       "\n",
       "    .dataframe thead th {\n",
       "        text-align: right;\n",
       "    }\n",
       "</style>\n",
       "<table border=\"1\" class=\"dataframe\">\n",
       "  <thead>\n",
       "    <tr style=\"text-align: right;\">\n",
       "      <th></th>\n",
       "      <th>0</th>\n",
       "      <th>1</th>\n",
       "    </tr>\n",
       "  </thead>\n",
       "  <tbody>\n",
       "    <tr>\n",
       "      <th>0</th>\n",
       "      <td>Illtown (1996)</td>\n",
       "      <td>Crime|Drama</td>\n",
       "    </tr>\n",
       "    <tr>\n",
       "      <th>1</th>\n",
       "      <td>Father of the Bride Part II (1995)</td>\n",
       "      <td>Comedy</td>\n",
       "    </tr>\n",
       "    <tr>\n",
       "      <th>2</th>\n",
       "      <td>Face/Off (1997)</td>\n",
       "      <td>Action|Sci-Fi|Thriller</td>\n",
       "    </tr>\n",
       "    <tr>\n",
       "      <th>3</th>\n",
       "      <td>Preacher's Wife, The (1996)</td>\n",
       "      <td>Drama</td>\n",
       "    </tr>\n",
       "    <tr>\n",
       "      <th>4</th>\n",
       "      <td>We're Back! A Dinosaur's Story (1993)</td>\n",
       "      <td>Animation|Children's</td>\n",
       "    </tr>\n",
       "    <tr>\n",
       "      <th>5</th>\n",
       "      <td>Unknown ID: 1742</td>\n",
       "      <td>Unknown Genre</td>\n",
       "    </tr>\n",
       "    <tr>\n",
       "      <th>6</th>\n",
       "      <td>Small Wonders (1996)</td>\n",
       "      <td>Documentary</td>\n",
       "    </tr>\n",
       "    <tr>\n",
       "      <th>7</th>\n",
       "      <td>Outsiders, The (1983)</td>\n",
       "      <td>Drama</td>\n",
       "    </tr>\n",
       "    <tr>\n",
       "      <th>8</th>\n",
       "      <td>Nine Months (1995)</td>\n",
       "      <td>Comedy</td>\n",
       "    </tr>\n",
       "    <tr>\n",
       "      <th>9</th>\n",
       "      <td>Unforgettable (1996)</td>\n",
       "      <td>Thriller</td>\n",
       "    </tr>\n",
       "  </tbody>\n",
       "</table>\n",
       "</div>"
      ],
      "text/plain": [
       "                                       0                       1\n",
       "0                         Illtown (1996)             Crime|Drama\n",
       "1     Father of the Bride Part II (1995)                  Comedy\n",
       "2                        Face/Off (1997)  Action|Sci-Fi|Thriller\n",
       "3            Preacher's Wife, The (1996)                   Drama\n",
       "4  We're Back! A Dinosaur's Story (1993)    Animation|Children's\n",
       "5                       Unknown ID: 1742           Unknown Genre\n",
       "6                   Small Wonders (1996)             Documentary\n",
       "7                  Outsiders, The (1983)                   Drama\n",
       "8                     Nine Months (1995)                  Comedy\n",
       "9                   Unforgettable (1996)                Thriller"
      ]
     },
     "execution_count": 210,
     "metadata": {},
     "output_type": "execute_result"
    }
   ],
   "source": [
    "input_ids_str = 'Shawshank Redemption, The (1994)'\n",
    "predictions = get_top_k_predictions(model, tokenizer, input_ids_str, id_to_movie_name, id_to_genre)\n",
    "pd.DataFrame(predictions)\n"
   ]
  },
  {
   "cell_type": "code",
   "execution_count": 203,
   "id": "e9d01ba3",
   "metadata": {},
   "outputs": [
    {
     "data": {
      "text/html": [
       "<div>\n",
       "<style scoped>\n",
       "    .dataframe tbody tr th:only-of-type {\n",
       "        vertical-align: middle;\n",
       "    }\n",
       "\n",
       "    .dataframe tbody tr th {\n",
       "        vertical-align: top;\n",
       "    }\n",
       "\n",
       "    .dataframe thead th {\n",
       "        text-align: right;\n",
       "    }\n",
       "</style>\n",
       "<table border=\"1\" class=\"dataframe\">\n",
       "  <thead>\n",
       "    <tr style=\"text-align: right;\">\n",
       "      <th></th>\n",
       "      <th>user_id</th>\n",
       "      <th>movie_name</th>\n",
       "      <th>movie_id</th>\n",
       "      <th>genre</th>\n",
       "    </tr>\n",
       "  </thead>\n",
       "  <tbody>\n",
       "    <tr>\n",
       "      <th>468578</th>\n",
       "      <td>4921</td>\n",
       "      <td>Central Station (Central do Brasil) (1998)</td>\n",
       "      <td>2357</td>\n",
       "      <td>Drama</td>\n",
       "    </tr>\n",
       "    <tr>\n",
       "      <th>329697</th>\n",
       "      <td>3512</td>\n",
       "      <td>Shawshank Redemption, The (1994)</td>\n",
       "      <td>318</td>\n",
       "      <td>Drama</td>\n",
       "    </tr>\n",
       "    <tr>\n",
       "      <th>461881</th>\n",
       "      <td>4842</td>\n",
       "      <td>Sixth Sense, The (1999)</td>\n",
       "      <td>2762</td>\n",
       "      <td>Thriller</td>\n",
       "    </tr>\n",
       "    <tr>\n",
       "      <th>63860</th>\n",
       "      <td>714</td>\n",
       "      <td>Young Guns II (1990)</td>\n",
       "      <td>1379</td>\n",
       "      <td>Action|Comedy|Western</td>\n",
       "    </tr>\n",
       "    <tr>\n",
       "      <th>431748</th>\n",
       "      <td>4506</td>\n",
       "      <td>Fabulous Baker Boys, The (1989)</td>\n",
       "      <td>3684</td>\n",
       "      <td>Drama|Romance</td>\n",
       "    </tr>\n",
       "  </tbody>\n",
       "</table>\n",
       "</div>"
      ],
      "text/plain": [
       "        user_id                                  movie_name  movie_id  \\\n",
       "468578     4921  Central Station (Central do Brasil) (1998)      2357   \n",
       "329697     3512            Shawshank Redemption, The (1994)       318   \n",
       "461881     4842                     Sixth Sense, The (1999)      2762   \n",
       "63860       714                        Young Guns II (1990)      1379   \n",
       "431748     4506             Fabulous Baker Boys, The (1989)      3684   \n",
       "\n",
       "                        genre  \n",
       "468578                  Drama  \n",
       "329697                  Drama  \n",
       "461881               Thriller  \n",
       "63860   Action|Comedy|Western  \n",
       "431748          Drama|Romance  "
      ]
     },
     "execution_count": 203,
     "metadata": {},
     "output_type": "execute_result"
    }
   ],
   "source": [
    "df_final.sample(n=5)"
   ]
  }
 ],
 "metadata": {
  "kernelspec": {
   "display_name": "Python 3 (ipykernel)",
   "language": "python",
   "name": "python3"
  },
  "language_info": {
   "codemirror_mode": {
    "name": "ipython",
    "version": 3
   },
   "file_extension": ".py",
   "mimetype": "text/x-python",
   "name": "python",
   "nbconvert_exporter": "python",
   "pygments_lexer": "ipython3",
   "version": "3.11.5"
  }
 },
 "nbformat": 4,
 "nbformat_minor": 5
}
